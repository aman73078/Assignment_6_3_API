{
 "cells": [
  {
   "cell_type": "code",
   "execution_count": 3,
   "id": "df81bc17-0774-49bf-adb0-216141139676",
   "metadata": {},
   "outputs": [],
   "source": [
    "# Q1. What is an API? Give an example, where an API is used in real life.\n",
    "# Ans- API stands for Application Programming Interface. APIs are mechanisms that enable two software components \n",
    "#      to communicate with each other using a set of definitions and protocols.\n",
    "#                                    or\n",
    "#      API is a Intergace where two heterogeneous and homogeneous application communicate with each other.\n",
    "#   Example:- 1. As a real-world example, think about the electricity supply in your house, apartment, or other \n",
    "#                dwellings. If you want to use an appliance in your house, you plug it into a plug socket and it\n",
    "#                works. So Wire is working as a API.\n",
    "#             \n",
    "#             2. A website may use a Facebook API to allow users to log in using their Facebook account, or to display\n",
    "#             the user's Facebook feed.\n"
   ]
  },
  {
   "cell_type": "code",
   "execution_count": 4,
   "id": "2d7318f9-05f7-4bed-83aa-cb52a10c9a0f",
   "metadata": {},
   "outputs": [],
   "source": [
    "# Q2. Give advantages and disadvantages of using API.\n",
    "# # Ans- Advantages:-\n",
    "\n",
    "    #    Increased Interoperability: API solutions enable different software systems to communicate with each other, \n",
    "    #                                regardless of their programming language or platform. This enhances the interoperability\n",
    "    #                                between systems, allowing for the exchange of data and functionality.\n",
    "    #    Improved Efficiency: API driven infrastructures enable developers to reuse code and functionality from existing\n",
    "    #                         software systems, saving time and reducing the amount of code that needs to be written \n",
    "    #                         from scratch.\n",
    "    #    Better User Experience: APIs can enable third-party developers to create applications that integrate with \n",
    "    #                            existing software systems, providing a better user experience and increased functionality.\n",
    "    #    Increased Flexibility: APIs provide developers with greater flexibility, enabling them to choose the best \n",
    "    #                           programming languages and frameworks for their needs.\n",
    "    #    New Revenue Streams: APIs can enable companies to create new revenue streams by providing third-party developers\n",
    "    #                         with access to their software systems.\n",
    "\n",
    "# #    Disadvantages:-\n",
    "\n",
    "    #    Complexity: APIs can be complex, requiring a significant amount of development effort to implement and\n",
    "    #                      maintain.\n",
    "    #    Compatibility Issues: APIs can have compatibility issues between different versions of the same software\n",
    "    #                                system or between different systems, which can lead to errors and system failures.\n",
    "    #    Dependency on Third-Party Developers: APIs rely on third-party developers to create applications that \n",
    "    #                                                integrate with the software system. This can create dependencies \n",
    "    #                                                that are outside of the control of the company that owns the \n",
    "    #                                                software system.\n",
    "    #    Governance and Management: APIs require proper governance and management to ensure they are being used \n"
   ]
  },
  {
   "cell_type": "code",
   "execution_count": 5,
   "id": "f78fe617-bf39-4219-ac61-89599d9222ba",
   "metadata": {},
   "outputs": [],
   "source": [
    "# Q3. What is a Web API? Differentiate between API and Web API.\n",
    "# Ans- Web API as the name suggests, is an API over the web which can be accessed using HTTP protocol. It is a \n",
    "#      concept and not a technology.\n",
    "\n",
    "#  Web API :- \n",
    "#        1. Network required to connect software application\n",
    "#        2. Only available to approved users providing greater control over data access, how the services is used and \n",
    "#           it's functions\n",
    "#        3. Not a lightweight architecture as it most commonly follows the soap protocols and is code heavy\n",
    "#        4. Data transfer via XML only\n",
    "#        5. it follows HTTP only\n",
    "#  API :- \n",
    "#        1. Does not require a network to connect software application\n",
    "#        2. Many types of APIs, allowing a varied range of control from limited oversight to strict access requirements\n",
    "#        3. lightweight architecture option across varied protocols\n",
    "#        4. Data transfer via XML or JSON\n",
    "#        5. It follows HTTP OR HTTPS."
   ]
  },
  {
   "cell_type": "code",
   "execution_count": 6,
   "id": "75838065-b2f5-49e2-be1f-b4e8a62d6eec",
   "metadata": {},
   "outputs": [],
   "source": [
    "# Q4. Explain REST and SOAP Architecture. Mention shortcomings of SOAP.\n",
    "# Ans- \n",
    "#   REST:-\n",
    "#      REST is an architectural style that is commonly adopted for building web-based application programming \n",
    "#      interfaces (APIs). Generally, It transports data in JSON. It is based on URI. Because REST follows stateless\n",
    "#      model, REST does not enforces message format as XML or JSON etc. It works with GET, POST, PUT, DELETE. It \n",
    "#      Works over HTTP and HTTPS. Less structured -> less bulky data. It Designed with mobile devices in mind.\n",
    "\n",
    "#   SOAP:-\n",
    "#      SOAP (Simple Object Access Protocol) is a message protocol that enables the distributed elements of an \n",
    "#      application to communicate. SOAP can be carried over a variety of standard protocols, including the \n",
    "#      web-related Hypertext Transfer Protocol (HTTP). It transports data in standard XML format. Because it is \n",
    "#      XML based and relies on SOAP, it works with WSDL.It Works over HTTP, HTTPS, SMTP, XMPP. It is Highly \n",
    "#      structured/typed. It Designed with large enterprise applications in mind.\n",
    "\n",
    "#   Shortcomings of SOAP:-\n",
    "#          Bandwidth requirement: XML documents are large and require more bandwidth, making it slow to process tags.\n",
    "#          Difficult to learn: Since it’s a protocol, SOAP API servers require an understanding of all the protocols\n",
    "#                              you might use and possible restrictions.\n",
    "#          No flexibility: SOAP is much more strict than REST and requires additional work to ensure messages are \n",
    "#                          accurate. Therefore, updating requests and responses can be tedious and time-consuming."
   ]
  },
  {
   "cell_type": "code",
   "execution_count": 7,
   "id": "d8728055-95ca-4c46-8d7f-cd73ee30b548",
   "metadata": {
    "tags": []
   },
   "outputs": [],
   "source": [
    "# Q5. Differentiate between REST and SOAP.\n",
    "# Ans- \n",
    "#    SOAP:-\n",
    "#           1. Relies on SOAP (Simple Object Access Protocol)\n",
    "#           2. Transports data in standard XML format.\n",
    "#           3. Because it is XML based and relies on SOAP, it works with WSDL\n",
    "#           4. Works over HTTP, HTTPS, SMTP, XMPP\n",
    "#           5. Highly structured/typed\n",
    "#           6. Designed with large enterprise applications in mind\n",
    "\n",
    "#    REST:- \n",
    "#           1. Relies on REST (Representational State Transfer) architecture using HTTP.\n",
    "#           2. Generally transports data in JSON. It is based on URI. Because REST follows stateless model, REST \n",
    "#              does not enforces message format as XML or JSON etc.\n",
    "#           3. It works with GET, POST, PUT, DELETE\n",
    "#           4. Works over HTTP and HTTPS\n",
    "#           5. Less structured -> less bulky data\n",
    "#           6. Designed with mobile devices in mind"
   ]
  },
  {
   "cell_type": "code",
   "execution_count": null,
   "id": "caa5827d-930d-45f7-b870-17500e3fd8c0",
   "metadata": {},
   "outputs": [],
   "source": []
  }
 ],
 "metadata": {
  "kernelspec": {
   "display_name": "Python 3 (ipykernel)",
   "language": "python",
   "name": "python3"
  },
  "language_info": {
   "codemirror_mode": {
    "name": "ipython",
    "version": 3
   },
   "file_extension": ".py",
   "mimetype": "text/x-python",
   "name": "python",
   "nbconvert_exporter": "python",
   "pygments_lexer": "ipython3",
   "version": "3.10.8"
  }
 },
 "nbformat": 4,
 "nbformat_minor": 5
}
